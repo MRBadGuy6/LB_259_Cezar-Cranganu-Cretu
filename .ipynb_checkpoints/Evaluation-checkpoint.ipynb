{
 "cells": [
  {
   "cell_type": "markdown",
   "id": "ae778aa5-7ef4-4d7e-abe2-ed93eac0ae92",
   "metadata": {},
   "source": [
    "# 4. Evaluation"
   ]
  },
  {
   "cell_type": "code",
   "execution_count": 21,
   "id": "15d8cf21-58ed-4360-8984-a7c6a8243384",
   "metadata": {},
   "outputs": [],
   "source": [
    "# Model importieren\n",
    "import joblib\n",
    "import pandas as pd\n",
    "import json\n",
    "import numpy as np\n",
    "\n",
    "model = joblib.load('popularitaetsmodel.pkl')\n",
    "\n",
    "# Daten importieren\n",
    "y_test = pd.read_pickle('y_test.pkl')\n",
    "X_test = np.load(\"X_test.npy\")"
   ]
  },
  {
   "cell_type": "code",
   "execution_count": 24,
   "id": "ec7ad816-ebb6-4b6c-9728-c28cb822dc96",
   "metadata": {},
   "outputs": [
    {
     "name": "stdout",
     "output_type": "stream",
     "text": [
      "Model Performance:\n",
      "R^2 Score: 0.6611\n",
      "Mean Absolute Error (MAE): 6.7795\n",
      "Mean Squared Error (MSE): 81.3018\n"
     ]
    }
   ],
   "source": [
    "# Evaluierung\n",
    "\n",
    "from sklearn.metrics import mean_absolute_error, mean_squared_error, r2_score\n",
    "\n",
    "# Vorhersage für Testmenge\n",
    "y_pred = model.predict(X_test)\n",
    "\n",
    "# Leistung des Modells bewerten\n",
    "r2 = r2_score(y_test, y_pred)  # R² Leistung\n",
    "mae = mean_absolute_error(y_test, y_pred)  # Mean Absolute Error\n",
    "mse = mean_squared_error(y_test, y_pred)  # Mean Squared Error\n",
    "rmse = mean_squared_error(y_test, y_pred)  # Root Mean Squared Error (RMSE)\n",
    "\n",
    "# Bewertungsmetriken drucken\n",
    "print(\"Model Performance:\")\n",
    "print(f\"R^2 Score: {r2:.4f}\")\n",
    "print(f\"Mean Absolute Error (MAE): {mae:.4f}\")\n",
    "print(f\"Mean Squared Error (MSE): {mse:.4f}\")"
   ]
  },
  {
   "cell_type": "markdown",
   "id": "6467b83d-0473-4e19-a91c-2b4afc925f65",
   "metadata": {},
   "source": [
    "Wichtig noch anzumerken ist das ich keine Wahrheitsmatrix erstellt habe da ich keine Klassen in meinem Datensatz habe, die ich aufteilen könnte. "
   ]
  },
  {
   "cell_type": "markdown",
   "id": "4931a35c-83c1-4dbf-a4ca-95b116897b6d",
   "metadata": {},
   "source": [
    "## Modellleistung und Analyse\n",
    "Das Random Forest-Modell erreichte einen R² Score von 0.66 und einen MAE von ~6.78 , was auf moderate Vorhersagegenauigkeit hinweist. Mögliche Gründe hierfür sind:\n",
    "\n",
    "Unzureichende Features : Relevante Merkmale könnten fehlen oder nicht optimal vorverarbeitet sein.\n",
    "\n",
    "Komplexität der Daten : Saisonale Effekte oder externe Einflüsse könnten unberücksichtigt bleiben.\n",
    "\n",
    "Hyperparameter-Tuning : Suboptimale Parameter könnten die Performance begrenzen.\n",
    "\n",
    "\n",
    "Zur Verbesserung könnten Feature-Engineering, Cross-Validation und alternative Modelle wie Gradient Boosting eingesetzt werden."
   ]
  }
 ],
 "metadata": {
  "kernelspec": {
   "display_name": "Python 3 (ipykernel)",
   "language": "python",
   "name": "python3"
  },
  "language_info": {
   "codemirror_mode": {
    "name": "ipython",
    "version": 3
   },
   "file_extension": ".py",
   "mimetype": "text/x-python",
   "name": "python",
   "nbconvert_exporter": "python",
   "pygments_lexer": "ipython3",
   "version": "3.13.1"
  }
 },
 "nbformat": 4,
 "nbformat_minor": 5
}
