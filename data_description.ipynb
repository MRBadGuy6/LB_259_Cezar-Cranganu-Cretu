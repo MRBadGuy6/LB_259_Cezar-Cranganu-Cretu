!pip install pandas
!pip install openpyxl
!pip install matplotlib
!pip install seaborn
!pip install scikit-learn

# Für welches Daten-Feld möchten Sie Vorhersagen treffen können?

# Ich werde die Popularität der Songs vorhersagen. 

import pandas as pd

# Daten laden
data = pd.read_excel('SpotifyTopSongs_1000.xlsx')

# Statistische Zusammenfassung
data.describe()

import matplotlib
import matplotlib.pyplot as plt

# Histogramm der Popularity
plt.hist(data['popularity'], bins=20, color='blue', edgecolor='black')
plt.title('Verteilung der Popularity')
plt.xlabel('Popularity')
plt.ylabel('Häufigkeit')
plt.show()

import seaborn as sns

# Streudiagramm zwischen Danceability und Popularity
sns.scatterplot(x=data['danceability'], y=data['popularity'])
plt.title('Danceability vs. Popularity')
plt.xlabel('Danceability')
plt.ylabel('Popularity')
plt.show()

from sklearn.preprocessing import MinMaxScaler

# Skalieren von duration_ms
scaler = MinMaxScaler()
data['scaled_duration_ms'] = scaler.fit_transform(data[['duration_ms']])

data.describe()
