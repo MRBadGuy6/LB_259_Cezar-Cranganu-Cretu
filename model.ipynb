{
 "cells": [
  {
   "cell_type": "code",
   "execution_count": null,
   "metadata": {},
   "outputs": [],
   "source": [
    "!pip install pandas\n",
    "!pip install openpyxl\n",
    "!pip install matplotlib\n",
    "!pip install seaborn\n",
    "!pip install scikit-learn"
   ]
  },
  {
   "cell_type": "code",
   "execution_count": null,
   "metadata": {},
   "outputs": [],
   "source": [
    "import pandas as pd\n",
    "from sklearn.model_selection import train_test_split\n",
    "\n",
    "# Daten laden\n",
    "data = pd.read_excel('SpotifyTopSongs_1000.xlsx')\n",
    "\n",
    "# Ziele und Merkmale definieren\n",
    "X = data.drop(columns=['popularity'])  # Alle Spalten außer 'popularity'\n",
    "y = data['popularity']  # Zielvariable\n",
    "\n",
    "# Datensatz in Train- und Test-Sätze aufteilen\n",
    "X_train, X_test, y_train, y_test = train_test_split(X, y, test_size=0.2, random_state=42)"
   ]
  },
  {
   "cell_type": "code",
   "execution_count": null,
   "metadata": {},
   "outputs": [],
   "source": [
    "from sklearn.ensemble import RandomForestRegressor\n",
    "\n",
    "# Modell initialisieren\n",
    "model = RandomForestRegressor(random_state=42)\n",
    "\n",
    "# Modell trainieren\n",
    "model.fit(X_train, y_train)"
   ]
  },
  {
   "cell_type": "code",
   "execution_count": null,
   "metadata": {},
   "outputs": [],
   "source": [
    "from sklearn.metrics import mean_absolute_error, mean_squared_error, r2_score\n",
    "\n",
    "# Vorhersagen für den Testdatensatz\n",
    "y_pred = model.predict(X_test)\n",
    "\n",
    "# Fehler metrischen\n",
    "mae = mean_absolute_error(y_test, y_pred)\n",
    "mse = mean_squared_error(y_test, y_pred)\n",
    "rmse = mean_squared_error(y_test, y_pred, squared=False)  # Wurzel des MSE\n",
    "r2 = r2_score(y_test, y_pred)\n",
    "\n",
    "print(f\"Mean Absolute Error (MAE): {mae:.2f}\")\n",
    "print(f\"Mean Squared Error (MSE): {mse:.2f}\")\n",
    "print(f\"Root Mean Squared Error (RMSE): {rmse:.2f}\")\n",
    "print(f\"R² Score: {r2:.2f}\")\n",
    "\n",
    "\"\"\"\n",
    "### Dokumentation\n",
    "\n",
    "#### 1. Datensatz aufteilen\n",
    "Der Datensatz wurde in einen Trainingsdatensatz (80%) und einen Testdatensatz (20%) aufgeteilt.\n",
    "\n",
    "#### 2. Algorithmus auswählen\n",
    "Als Algorithmus wurde der **Random Forest Regressor** gewählt, da er robust ist und komplexe Beziehungen zwischen den Merkmalen und dem Ziel erfassen kann.\n",
    "\n",
    "#### 3. Modell evaluieren\n",
    "- **MAE:** {mae:.2f}\n",
    "- **MSE:** {mse:.2f}\n",
    "- **RMSE:** {rmse:.2f}\n",
    "- **R² Score:** {r2:.2f}\n",
    "\n",
    "#### 4. Schlussfolgerungen\n",
    "Das Modell erreicht einen R²-Score von {r2:.2f}, was darauf hinweist, dass es {r2*100:.2f}% der Varianz im Zielattribut erklärt. Der MAE beträgt {mae:.2f}.\n",
    "\"\"\""
   ]
  }
 ],
 "metadata": {
  "language_info": {
   "name": "python"
  }
 },
 "nbformat": 4,
 "nbformat_minor": 2
}
